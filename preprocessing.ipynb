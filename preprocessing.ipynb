{
  "nbformat": 4,
  "nbformat_minor": 0,
  "metadata": {
    "colab": {
      "provenance": [],
      "authorship_tag": "ABX9TyOVB8SPi5GtQj3VgAgd7TY/",
      "include_colab_link": true
    },
    "kernelspec": {
      "name": "python3",
      "display_name": "Python 3"
    },
    "language_info": {
      "name": "python"
    }
  },
  "cells": [
    {
      "cell_type": "markdown",
      "metadata": {
        "id": "view-in-github",
        "colab_type": "text"
      },
      "source": [
        "<a href=\"https://colab.research.google.com/github/Femmiwdy/DataMiningPreprocessing/blob/main/preprocessing.ipynb\" target=\"_parent\"><img src=\"https://colab.research.google.com/assets/colab-badge.svg\" alt=\"Open In Colab\"/></a>"
      ]
    },
    {
      "cell_type": "code",
      "execution_count": 2,
      "metadata": {
        "id": "E-e7ddC5gxaE"
      },
      "outputs": [],
      "source": [
        "import numpy as np\n",
        "import matplotlib.pyplot as plt\n",
        "import pandas as pd"
      ]
    },
    {
      "cell_type": "code",
      "source": [
        "dataset = pd.read_csv('/content/Dataset.csv')\n",
        "X = dataset.iloc[:, :-1].values\n",
        "Y = dataset.iloc[:,-1].values"
      ],
      "metadata": {
        "id": "z1D5gpPNnBVc"
      },
      "execution_count": 3,
      "outputs": []
    },
    {
      "cell_type": "code",
      "source": [
        "print(X)"
      ],
      "metadata": {
        "colab": {
          "base_uri": "https://localhost:8080/"
        },
        "id": "lPReZzBwozze",
        "outputId": "752aad25-aa93-4ff5-f7f6-e5196a2a7372"
      },
      "execution_count": 4,
      "outputs": [
        {
          "output_type": "stream",
          "name": "stdout",
          "text": [
            "[['Turki' 40.0 72000.0]\n",
            " ['Prancis' 27.0 50000.0]\n",
            " ['Arab' 35.0 55000.0]\n",
            " ['Singapura' 40.0 63000.0]\n",
            " ['Malaysia' 46.0 nan]\n",
            " ['Indonesia' 35.0 60000.0]\n",
            " ['Jepang' nan 52000.0]\n",
            " ['Indonesia' 48.0 79000.0]\n",
            " ['Arab' nan 85000.0]\n",
            " ['Singapura' 38.0 68000.0]]\n"
          ]
        }
      ]
    },
    {
      "cell_type": "code",
      "source": [
        "print(Y)"
      ],
      "metadata": {
        "colab": {
          "base_uri": "https://localhost:8080/"
        },
        "id": "FkKqjZMnpGTl",
        "outputId": "d74a5767-ea0e-4304-c79c-776297ebe152"
      },
      "execution_count": 5,
      "outputs": [
        {
          "output_type": "stream",
          "name": "stdout",
          "text": [
            "['Yes' 'Yes' 'No' 'No' 'Yes' 'Yes' 'No' 'Yes' 'No' 'Yes']\n"
          ]
        }
      ]
    },
    {
      "cell_type": "code",
      "source": [
        "from sklearn.impute import SimpleImputer\n",
        "imputer = SimpleImputer(missing_values=np.nan, strategy='mean')\n",
        "imputer.fit(X[:,1:3])\n",
        "X[:, 1:3] = imputer.transform(X[:, 1:3])"
      ],
      "metadata": {
        "id": "Egblirh2qI7M"
      },
      "execution_count": 6,
      "outputs": []
    },
    {
      "cell_type": "code",
      "source": [
        "print(X)"
      ],
      "metadata": {
        "id": "8Q58nZWCyJ9D",
        "outputId": "24a00a7a-a8a3-48de-bccb-881ff0f7b742",
        "colab": {
          "base_uri": "https://localhost:8080/"
        }
      },
      "execution_count": 7,
      "outputs": [
        {
          "output_type": "stream",
          "name": "stdout",
          "text": [
            "[['Turki' 40.0 72000.0]\n",
            " ['Prancis' 27.0 50000.0]\n",
            " ['Arab' 35.0 55000.0]\n",
            " ['Singapura' 40.0 63000.0]\n",
            " ['Malaysia' 46.0 64888.88888888889]\n",
            " ['Indonesia' 35.0 60000.0]\n",
            " ['Jepang' 38.625 52000.0]\n",
            " ['Indonesia' 48.0 79000.0]\n",
            " ['Arab' 38.625 85000.0]\n",
            " ['Singapura' 38.0 68000.0]]\n"
          ]
        }
      ]
    },
    {
      "cell_type": "code",
      "source": [
        "from sklearn.compose import ColumnTransformer\n",
        "from sklearn.preprocessing import OneHotEncoder\n",
        "ct = ColumnTransformer(transformers=[('encoder', OneHotEncoder(), [0])], remainder='passthrough')\n",
        "X = np.array(ct.fit_transform(X))"
      ],
      "metadata": {
        "id": "BJzDYSAqBmub"
      },
      "execution_count": 8,
      "outputs": []
    },
    {
      "cell_type": "code",
      "source": [
        "print(X)"
      ],
      "metadata": {
        "colab": {
          "base_uri": "https://localhost:8080/"
        },
        "id": "q6LH4Nm1DcKx",
        "outputId": "0d4888d3-dd18-4339-b860-d237c4743ac6"
      },
      "execution_count": 9,
      "outputs": [
        {
          "output_type": "stream",
          "name": "stdout",
          "text": [
            "[[0.0 0.0 0.0 0.0 0.0 0.0 1.0 40.0 72000.0]\n",
            " [0.0 0.0 0.0 0.0 1.0 0.0 0.0 27.0 50000.0]\n",
            " [1.0 0.0 0.0 0.0 0.0 0.0 0.0 35.0 55000.0]\n",
            " [0.0 0.0 0.0 0.0 0.0 1.0 0.0 40.0 63000.0]\n",
            " [0.0 0.0 0.0 1.0 0.0 0.0 0.0 46.0 64888.88888888889]\n",
            " [0.0 1.0 0.0 0.0 0.0 0.0 0.0 35.0 60000.0]\n",
            " [0.0 0.0 1.0 0.0 0.0 0.0 0.0 38.625 52000.0]\n",
            " [0.0 1.0 0.0 0.0 0.0 0.0 0.0 48.0 79000.0]\n",
            " [1.0 0.0 0.0 0.0 0.0 0.0 0.0 38.625 85000.0]\n",
            " [0.0 0.0 0.0 0.0 0.0 1.0 0.0 38.0 68000.0]]\n"
          ]
        }
      ]
    },
    {
      "cell_type": "code",
      "source": [
        "from sklearn.preprocessing import LabelEncoder\n",
        "le = LabelEncoder()\n",
        "Y = le.fit_transform(Y)"
      ],
      "metadata": {
        "id": "ki9C1BWADpey"
      },
      "execution_count": 10,
      "outputs": []
    },
    {
      "cell_type": "code",
      "source": [
        "print(Y)"
      ],
      "metadata": {
        "colab": {
          "base_uri": "https://localhost:8080/"
        },
        "id": "nLdt5x4PEBsm",
        "outputId": "bc9fc513-4dbe-4c6e-d586-e280738406f1"
      },
      "execution_count": 11,
      "outputs": [
        {
          "output_type": "stream",
          "name": "stdout",
          "text": [
            "[1 1 0 0 1 1 0 1 0 1]\n"
          ]
        }
      ]
    },
    {
      "cell_type": "code",
      "source": [
        "from sklearn.model_selection import train_test_split\n",
        "X_train, X_test, Y_train, Y_test = train_test_split(X, Y, test_size = 0.2, random_state = 1)\n"
      ],
      "metadata": {
        "id": "J4_8F9qOEIdA"
      },
      "execution_count": 12,
      "outputs": []
    },
    {
      "cell_type": "code",
      "source": [
        "print(X_train)"
      ],
      "metadata": {
        "colab": {
          "base_uri": "https://localhost:8080/"
        },
        "id": "eZPJAUqrEtim",
        "outputId": "912e9451-681d-4c7d-a5aa-d10fa169d4e5"
      },
      "execution_count": 13,
      "outputs": [
        {
          "output_type": "stream",
          "name": "stdout",
          "text": [
            "[[0.0 0.0 1.0 0.0 0.0 0.0 0.0 38.625 52000.0]\n",
            " [0.0 0.0 0.0 1.0 0.0 0.0 0.0 46.0 64888.88888888889]\n",
            " [0.0 0.0 0.0 0.0 0.0 0.0 1.0 40.0 72000.0]\n",
            " [0.0 0.0 0.0 0.0 0.0 1.0 0.0 40.0 63000.0]\n",
            " [0.0 0.0 0.0 0.0 1.0 0.0 0.0 27.0 50000.0]\n",
            " [0.0 1.0 0.0 0.0 0.0 0.0 0.0 48.0 79000.0]\n",
            " [1.0 0.0 0.0 0.0 0.0 0.0 0.0 38.625 85000.0]\n",
            " [0.0 1.0 0.0 0.0 0.0 0.0 0.0 35.0 60000.0]]\n"
          ]
        }
      ]
    },
    {
      "cell_type": "code",
      "source": [
        "print(X_test)"
      ],
      "metadata": {
        "colab": {
          "base_uri": "https://localhost:8080/"
        },
        "id": "1Ozqvf7gE6m-",
        "outputId": "bf426e1a-9a7f-4410-807a-15114f083a71"
      },
      "execution_count": 14,
      "outputs": [
        {
          "output_type": "stream",
          "name": "stdout",
          "text": [
            "[[1.0 0.0 0.0 0.0 0.0 0.0 0.0 35.0 55000.0]\n",
            " [0.0 0.0 0.0 0.0 0.0 1.0 0.0 38.0 68000.0]]\n"
          ]
        }
      ]
    },
    {
      "cell_type": "code",
      "source": [
        "print(Y_train)"
      ],
      "metadata": {
        "colab": {
          "base_uri": "https://localhost:8080/"
        },
        "id": "JcOSnHcUFApa",
        "outputId": "c9a4ae44-c56b-44d5-c9ec-44e0679c7f2b"
      },
      "execution_count": 15,
      "outputs": [
        {
          "output_type": "stream",
          "name": "stdout",
          "text": [
            "[0 1 1 0 1 1 0 1]\n"
          ]
        }
      ]
    },
    {
      "cell_type": "code",
      "source": [
        "print(Y_test)"
      ],
      "metadata": {
        "colab": {
          "base_uri": "https://localhost:8080/"
        },
        "id": "EsJj5r6LFF5n",
        "outputId": "f609007b-bbc2-42f6-d93b-0bb4cdc28c24"
      },
      "execution_count": 16,
      "outputs": [
        {
          "output_type": "stream",
          "name": "stdout",
          "text": [
            "[0 1]\n"
          ]
        }
      ]
    },
    {
      "cell_type": "code",
      "source": [
        "from sklearn.preprocessing import StandardScaler\n",
        "sc = StandardScaler()\n",
        "X_train[:, 3:] = sc.fit_transform(X_train[:, 3:])\n",
        "X_test[:, 3:] = sc.transform(X_test[:, 3:])"
      ],
      "metadata": {
        "id": "NttKCcAgFMwz"
      },
      "execution_count": 17,
      "outputs": []
    },
    {
      "cell_type": "code",
      "source": [
        "print(X_train)"
      ],
      "metadata": {
        "colab": {
          "base_uri": "https://localhost:8080/"
        },
        "id": "J2H5QggfFu4-",
        "outputId": "d1dceab6-c5c7-4fff-eaf9-e7e0d9651968"
      },
      "execution_count": 18,
      "outputs": [
        {
          "output_type": "stream",
          "name": "stdout",
          "text": [
            "[[0.0 0.0 1.0 -0.3779644730092272 -0.3779644730092272 -0.3779644730092272\n",
            "  -0.3779644730092272 -0.08792018887394243 -1.1912524548613261]\n",
            " [0.0 0.0 0.0 2.6457513110645903 -0.3779644730092272 -0.3779644730092272\n",
            "  -0.3779644730092272 1.132618903729023 -0.07347462057284189]\n",
            " [0.0 0.0 0.0 -0.3779644730092272 -0.3779644730092272 -0.3779644730092272\n",
            "  2.6457513110645903 0.13963794703508503 0.5432303914483906]\n",
            " [0.0 0.0 0.0 -0.3779644730092272 -0.3779644730092272 2.6457513110645903\n",
            "  -0.3779644730092272 0.13963794703508503 -0.23728688939098194]\n",
            " [0.0 0.0 0.0 -0.3779644730092272 2.6457513110645903 -0.3779644730092272\n",
            "  -0.3779644730092272 -2.0118207924684475 -1.3647007394922979]\n",
            " [0.0 1.0 0.0 -0.3779644730092272 -0.3779644730092272 -0.3779644730092272\n",
            "  -0.3779644730092272 1.463612555960336 1.1502993876567915]\n",
            " [1.0 0.0 0.0 -0.3779644730092272 -0.3779644730092272 -0.3779644730092272\n",
            "  -0.3779644730092272 -0.08792018887394243 1.6706442415497065]\n",
            " [0.0 1.0 0.0 -0.3779644730092272 -0.3779644730092272 -0.3779644730092272\n",
            "  -0.3779644730092272 -0.6878461835431967 -0.49745931633743945]]\n"
          ]
        }
      ]
    },
    {
      "cell_type": "code",
      "source": [
        "print(X_test)"
      ],
      "metadata": {
        "colab": {
          "base_uri": "https://localhost:8080/"
        },
        "id": "Z1Lc75RyFzom",
        "outputId": "fa667161-4ebb-43bb-ce27-95a075f13cfb"
      },
      "execution_count": 20,
      "outputs": [
        {
          "output_type": "stream",
          "name": "stdout",
          "text": [
            "[[1.0 0.0 0.0 -0.3779644730092272 -0.3779644730092272 -0.3779644730092272\n",
            "  -0.3779644730092272 -0.6878461835431967 -0.9310800279148687]\n",
            " [0.0 0.0 0.0 -0.3779644730092272 -0.3779644730092272 2.6457513110645903\n",
            "  -0.3779644730092272 -0.19135570519622766 0.19633382218644724]]\n"
          ]
        }
      ]
    },
    {
      "cell_type": "markdown",
      "source": [
        "# New Section"
      ],
      "metadata": {
        "id": "KlS5n9qBmSVV"
      }
    }
  ]
}